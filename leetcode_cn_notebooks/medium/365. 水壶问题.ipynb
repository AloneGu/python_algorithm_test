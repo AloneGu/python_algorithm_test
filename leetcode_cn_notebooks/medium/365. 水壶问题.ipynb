{
 "cells": [
  {
   "cell_type": "code",
   "execution_count": null,
   "metadata": {},
   "outputs": [],
   "source": [
    "# 有两个容量分别为 x升 和 y升 的水壶以及无限多的水。请判断能否通过使用这两个水壶，从而可以得到恰好 z升 的水？\n",
    "\n",
    "# 如果可以，最后请用以上水壶中的一或两个来盛放取得的 z升 水。\n",
    "\n",
    "# 你允许：\n",
    "\n",
    "# 装满任意一个水壶\n",
    "# 清空任意一个水壶\n",
    "# 从一个水壶向另外一个水壶倒水，直到装满或者倒空\n",
    "# 示例1: (From the famous \"Die Hard\" example)\n",
    "\n",
    "# 输入: x = 3, y = 5, z = 4\n",
    "# 输出: True\n",
    "# 示例2:\n",
    "\n",
    "# 输入: x = 2, y = 6, z = 5\n",
    "# 输出: False"
   ]
  },
  {
   "cell_type": "code",
   "execution_count": null,
   "metadata": {},
   "outputs": [],
   "source": [
    "class Solution:\n",
    "    def canMeasureWater(self, x, y, z):\n",
    "        \"\"\"\n",
    "        :type x: int\n",
    "        :type y: int\n",
    "        :type z: int\n",
    "        :rtype: bool\n",
    "        \"\"\"\n",
    "        if x > y: \n",
    "            x, y = y, x\n",
    "        gcd = self.gcd(x, y)\n",
    "        if gcd == 0: \n",
    "            return z == 0\n",
    "        return z % gcd == 0 and z <= x + y\n",
    "\n",
    "    def gcd(self, a, b):\n",
    "        if a == 0: \n",
    "            return b\n",
    "        return self.gcd(b % a, a)"
   ]
  },
  {
   "cell_type": "code",
   "execution_count": null,
   "metadata": {},
   "outputs": [],
   "source": [
    "# 解题思路：\n",
    "# 求最大公约数GCD（Greatest Common Divisor)。\n",
    "\n",
    "# 如果x与y互质（最大公约数为1），则容量范围[1, x + y]之内的任意整数体积均可以通过适当的操作得到。\n",
    "\n",
    "# 否则，记x与y的最大公约数为gcd，则可以获得的容量z只能为gcd的整数倍，且z <= x + y\n",
    "\n",
    "# 简单的证明：\n",
    "\n",
    "# 假设最终体积z = m * x + n * y（m与n为整数，可以为0或者为负）\n",
    "\n",
    "# 令x = p * gcd, y = q * gcd，可知p与q互质。\n",
    "\n",
    "# 则z = (m * p + n * q) * gcd\n",
    "\n",
    "# 可以证明一定存在m, n，使得m * p + n * q = 1（p与q互质的性质，参见：裴蜀定理）\n",
    "\n",
    "# 由此可知z一定是gcd的整数倍"
   ]
  }
 ],
 "metadata": {
  "kernelspec": {
   "display_name": "Python 3",
   "language": "python",
   "name": "python3"
  },
  "language_info": {
   "codemirror_mode": {
    "name": "ipython",
    "version": 3
   },
   "file_extension": ".py",
   "mimetype": "text/x-python",
   "name": "python",
   "nbconvert_exporter": "python",
   "pygments_lexer": "ipython3",
   "version": "3.5.2"
  }
 },
 "nbformat": 4,
 "nbformat_minor": 2
}
