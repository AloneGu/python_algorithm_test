{
 "cells": [
  {
   "cell_type": "code",
   "execution_count": null,
   "metadata": {},
   "outputs": [],
   "source": [
    "# 给定一个正整数，返回它在Excel表中相对应的列名称。\n",
    "\n",
    "# 示例：\n",
    "\n",
    "#     1 -> A\n",
    "#     2 -> B\n",
    "#     3 -> C\n",
    "#     ...\n",
    "#     26 -> Z\n",
    "#     27 -> AA\n",
    "#     28 -> AB "
   ]
  },
  {
   "cell_type": "code",
   "execution_count": null,
   "metadata": {},
   "outputs": [],
   "source": [
    "num_to_char = 'ABCDEFGHIJKLMNOPQRSTUVWXYZ'\n",
    "\n",
    "class Solution:\n",
    "    def convertToTitle(self, n):\n",
    "        \"\"\"\n",
    "        :type n: int\n",
    "        :rtype: str\n",
    "        \"\"\"\n",
    "        result, dvd = \"\", n\n",
    "         \n",
    "        while dvd:\n",
    "            result += num_to_char[(dvd - 1) % 26]\n",
    "            dvd = (dvd - 1) // 26\n",
    "         \n",
    "        return result[::-1]"
   ]
  }
 ],
 "metadata": {
  "kernelspec": {
   "display_name": "Python 3",
   "language": "python",
   "name": "python3"
  },
  "language_info": {
   "codemirror_mode": {
    "name": "ipython",
    "version": 3
   },
   "file_extension": ".py",
   "mimetype": "text/x-python",
   "name": "python",
   "nbconvert_exporter": "python",
   "pygments_lexer": "ipython3",
   "version": "3.5.2"
  }
 },
 "nbformat": 4,
 "nbformat_minor": 2
}
