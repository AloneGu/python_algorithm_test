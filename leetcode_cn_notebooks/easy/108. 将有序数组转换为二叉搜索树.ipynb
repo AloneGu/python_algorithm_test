{
 "cells": [
  {
   "cell_type": "code",
   "execution_count": null,
   "metadata": {},
   "outputs": [],
   "source": [
    "# 将一个按照升序排列的有序数组，转换为一棵高度平衡二叉搜索树。\n",
    "\n",
    "# 此题中，一个高度平衡二叉树是指一个二叉树每个节点的左右两个子树的高度差的绝对值不超过1。\n",
    "\n",
    " \n",
    "\n",
    "# 示例:\n",
    "\n",
    "# 给定有序数组: [-10,-3,0,5,9],\n",
    "\n",
    "# 一种可行答案是：[0,-3,9,-10,null,5]，它可以表示成下面这个高度平衡二叉搜索树：\n",
    "\n",
    "#       0\n",
    "#      / \\\n",
    "#    -3   9\n",
    "#    /   /\n",
    "#  -10  5"
   ]
  },
  {
   "cell_type": "code",
   "execution_count": null,
   "metadata": {},
   "outputs": [],
   "source": [
    "# Definition for a binary tree node.\n",
    "# class TreeNode:\n",
    "#     def __init__(self, x):\n",
    "#         self.val = x\n",
    "#         self.left = None\n",
    "#         self.right = None\n",
    "\n",
    "class Solution:\n",
    "    def sortedArrayToBST(self, nums):\n",
    "        \"\"\"\n",
    "        :type nums: List[int]\n",
    "        :rtype: TreeNode\n",
    "        \"\"\"\n",
    "        \n",
    "        num_len = len(nums)\n",
    "        if num_len == 0:\n",
    "            return None\n",
    "        return self.binary_tree(nums,0,num_len-1) # pass available indexs\n",
    "        \n",
    "    def binary_tree(self,nums,low,high):\n",
    "        if low > high:\n",
    "            return None\n",
    "        \n",
    "        mid = (low+high) // 2\n",
    "        root = TreeNode(nums[mid])\n",
    "        root.left = self.binary_tree(nums,low,mid-1)\n",
    "        root.right = self.binary_tree(nums,mid+1,high)\n",
    "        return root"
   ]
  }
 ],
 "metadata": {
  "kernelspec": {
   "display_name": "Python 3",
   "language": "python",
   "name": "python3"
  },
  "language_info": {
   "codemirror_mode": {
    "name": "ipython",
    "version": 3
   },
   "file_extension": ".py",
   "mimetype": "text/x-python",
   "name": "python",
   "nbconvert_exporter": "python",
   "pygments_lexer": "ipython3",
   "version": "3.5.2"
  }
 },
 "nbformat": 4,
 "nbformat_minor": 2
}
