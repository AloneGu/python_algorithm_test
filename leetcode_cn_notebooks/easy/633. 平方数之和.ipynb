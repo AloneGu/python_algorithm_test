{
 "cells": [
  {
   "cell_type": "code",
   "execution_count": null,
   "metadata": {},
   "outputs": [],
   "source": [
    "# https://leetcode-cn.com/problems/sum-of-square-numbers/description/\n",
    "\n",
    "# 给定一个非负整数 c ，你要判断是否存在两个整数 a 和 b，使得 a2 + b2 = c。\n",
    "\n",
    "# 示例1:\n",
    "\n",
    "# 输入: 5\n",
    "# 输出: True\n",
    "# 解释: 1 * 1 + 2 * 2 = 5\n",
    " \n",
    "\n",
    "# 示例2:\n",
    "\n",
    "# 输入: 3\n",
    "# 输出: False"
   ]
  },
  {
   "cell_type": "code",
   "execution_count": 3,
   "metadata": {},
   "outputs": [],
   "source": [
    "class Solution:\n",
    "    def judgeSquareSum(self, c):\n",
    "        \"\"\"\n",
    "        :type c: int\n",
    "        :rtype: bool\n",
    "        \"\"\"\n",
    "        import math\n",
    "        # suppose b >= a\n",
    "        high = math.ceil(math.sqrt(c))\n",
    "        low = int(math.sqrt(c/2))\n",
    "        for b in range(low, high+1):\n",
    "            res = c - b*b\n",
    "            if res>=0:\n",
    "                a = math.sqrt(c-b*b)\n",
    "                if int(a) == a:\n",
    "                    return True\n",
    "        return False"
   ]
  },
  {
   "cell_type": "code",
   "execution_count": 4,
   "metadata": {},
   "outputs": [
    {
     "data": {
      "text/plain": [
       "True"
      ]
     },
     "execution_count": 4,
     "metadata": {},
     "output_type": "execute_result"
    }
   ],
   "source": [
    "x = Solution()\n",
    "x.judgeSquareSum(5)"
   ]
  },
  {
   "cell_type": "code",
   "execution_count": 5,
   "metadata": {},
   "outputs": [
    {
     "data": {
      "text/plain": [
       "False"
      ]
     },
     "execution_count": 5,
     "metadata": {},
     "output_type": "execute_result"
    }
   ],
   "source": [
    "x.judgeSquareSum(3)"
   ]
  }
 ],
 "metadata": {
  "kernelspec": {
   "display_name": "Python 3",
   "language": "python",
   "name": "python3"
  },
  "language_info": {
   "codemirror_mode": {
    "name": "ipython",
    "version": 3
   },
   "file_extension": ".py",
   "mimetype": "text/x-python",
   "name": "python",
   "nbconvert_exporter": "python",
   "pygments_lexer": "ipython3",
   "version": "3.5.2"
  }
 },
 "nbformat": 4,
 "nbformat_minor": 2
}
