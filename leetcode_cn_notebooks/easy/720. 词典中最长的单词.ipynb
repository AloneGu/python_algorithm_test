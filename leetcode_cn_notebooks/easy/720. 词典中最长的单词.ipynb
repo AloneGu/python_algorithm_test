{
 "cells": [
  {
   "cell_type": "raw",
   "metadata": {},
   "source": [
    "https://leetcode-cn.com/problems/longest-word-in-dictionary/description/\n",
    "\n",
    "# 给出一个字符串数组words组成的一本英语词典。从中找出最长的一个单词，该单词是由words词典中其他单词逐步添加一个字母组成。若其中有多个可行的答案，则返回答案中字典序最小的单词。\n",
    "\n",
    "若无答案，则返回空字符串。\n",
    "\n",
    "示例 1:\n",
    "\n",
    "输入: \n",
    "words = [\"w\",\"wo\",\"wor\",\"worl\", \"world\"]\n",
    "输出: \"world\"\n",
    "解释: \n",
    "单词\"world\"可由\"w\", \"wo\", \"wor\", 和 \"worl\"添加一个字母组成。\n",
    "示例 2:\n",
    "\n",
    "输入: \n",
    "words = [\"a\", \"banana\", \"app\", \"appl\", \"ap\", \"apply\", \"apple\"]\n",
    "输出: \"apple\"\n",
    "解释: \n",
    "\"apply\"和\"apple\"都能由词典中的单词组成。但是\"apple\"得字典序小于\"apply\"。\n",
    "注意:\n",
    "\n",
    "所有输入的字符串都只包含小写字母。\n",
    "words数组长度范围为[1,1000]。\n",
    "words[i]的长度范围为[1,30]。"
   ]
  },
  {
   "cell_type": "code",
   "execution_count": 5,
   "metadata": {},
   "outputs": [],
   "source": [
    "class Solution:\n",
    "    def longestWord(self, words):\n",
    "        \"\"\"\n",
    "        :type words: List[str]\n",
    "        :rtype: str\n",
    "        \"\"\"\n",
    "        sort_words = sorted(words, key = lambda x:len(x), reverse=True)\n",
    "        set_words = set(words)\n",
    "        curr_res = ''\n",
    "        curr_len = 0\n",
    "        for w in sort_words:\n",
    "            w_len = len(w)\n",
    "            w_flag = True\n",
    "            for i in range(w_len-1):\n",
    "                if w[:i+1] not in set_words:\n",
    "                    w_flag = False # some part not in words\n",
    "            if w_flag is True: # all res exists in words:\n",
    "                if curr_res == '': # the fisrt answer\n",
    "                    curr_res = w\n",
    "                    curr_len = w_len\n",
    "                else:\n",
    "                    if w_len < curr_len: # sorted, get a shorter answer\n",
    "                        return curr_res\n",
    "                    else:\n",
    "                        curr_res = sorted([curr_res,w])[0]\n",
    "        return curr_res"
   ]
  },
  {
   "cell_type": "code",
   "execution_count": 6,
   "metadata": {},
   "outputs": [
    {
     "data": {
      "text/plain": [
       "'apple'"
      ]
     },
     "execution_count": 6,
     "metadata": {},
     "output_type": "execute_result"
    }
   ],
   "source": [
    "x = Solution()\n",
    "words = [\"a\", \"banana\", \"app\", \"appl\", \"ap\", \"apply\", \"apple\"]\n",
    "x.longestWord(words)"
   ]
  },
  {
   "cell_type": "code",
   "execution_count": null,
   "metadata": {},
   "outputs": [],
   "source": []
  }
 ],
 "metadata": {
  "kernelspec": {
   "display_name": "Python 3",
   "language": "python",
   "name": "python3"
  },
  "language_info": {
   "codemirror_mode": {
    "name": "ipython",
    "version": 3
   },
   "file_extension": ".py",
   "mimetype": "text/x-python",
   "name": "python",
   "nbconvert_exporter": "python",
   "pygments_lexer": "ipython3",
   "version": "3.5.2"
  }
 },
 "nbformat": 4,
 "nbformat_minor": 2
}
