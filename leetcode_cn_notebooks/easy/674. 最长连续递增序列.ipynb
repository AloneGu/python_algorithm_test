{
 "cells": [
  {
   "cell_type": "code",
   "execution_count": null,
   "metadata": {},
   "outputs": [],
   "source": [
    "# 给定一个未经排序的整数数组，找到最长且连续的的递增序列。\n",
    "\n",
    "# 示例 1:\n",
    "\n",
    "# 输入: [1,3,5,4,7]\n",
    "# 输出: 3\n",
    "# 解释: 最长连续递增序列是 [1,3,5], 长度为3。\n",
    "# 尽管 [1,3,5,7] 也是升序的子序列, 但它不是连续的，因为5和7在原数组里被4隔开。 \n",
    "# 示例 2:\n",
    "\n",
    "# 输入: [2,2,2,2,2]\n",
    "# 输出: 1\n",
    "# 解释: 最长连续递增序列是 [2], 长度为1。\n",
    "# 注意：数组长度不会超过10000。"
   ]
  },
  {
   "cell_type": "code",
   "execution_count": null,
   "metadata": {},
   "outputs": [],
   "source": [
    "class Solution:\n",
    "    def findLengthOfLCIS(self, nums):\n",
    "        \"\"\"\n",
    "        :type nums: List[int]\n",
    "        :rtype: int\n",
    "        \"\"\"\n",
    "        # [1,3,5,4,7]\n",
    "        # not increase idx [-1,2,4]\n",
    "        \n",
    "        not_inc_idx = [-1]\n",
    "        tmp_max = 1  # at least 1\n",
    "        num_len = len(nums)\n",
    "        \n",
    "        if num_len == 0:\n",
    "            return 0\n",
    "        \n",
    "        for i in range(num_len-1):\n",
    "            if nums[i+1] <= nums[i]:\n",
    "                tmp_max = max(i-not_inc_idx[-1],tmp_max)\n",
    "                not_inc_idx.append(i)\n",
    "        tmp_max = max(num_len-1-not_inc_idx[-1],tmp_max) # last part\n",
    "        return tmp_max"
   ]
  }
 ],
 "metadata": {
  "kernelspec": {
   "display_name": "Python 3",
   "language": "python",
   "name": "python3"
  },
  "language_info": {
   "codemirror_mode": {
    "name": "ipython",
    "version": 3
   },
   "file_extension": ".py",
   "mimetype": "text/x-python",
   "name": "python",
   "nbconvert_exporter": "python",
   "pygments_lexer": "ipython3",
   "version": "3.5.2"
  }
 },
 "nbformat": 4,
 "nbformat_minor": 2
}
