{
 "cells": [
  {
   "cell_type": "raw",
   "metadata": {},
   "source": [
    "你现在是棒球比赛记录员。\n",
    "给定一个字符串列表，每个字符串可以是以下四种类型之一：\n",
    "1.整数（一轮的得分）：直接表示您在本轮中获得的积分数。\n",
    "2. \"+\"（一轮的得分）：表示本轮获得的得分是最后两轮有效 回合得分的总和。\n",
    "3. \"D\"（一轮的得分）：表示本轮获得的得分是最后一轮有效 回合得分的两倍。\n",
    "4. \"C\"（一个操作，这不是一个回合的分数）：表示您获得的最后一个有效 回合的分数是无效的，应该被移除。\n",
    "\n",
    "每一轮的操作都是永久性的，可能会对前一轮和后一轮产生影响。\n",
    "你需要返回你在所有回合中得分的总和。\n",
    "\n",
    "示例 1:\n",
    "\n",
    "输入: [\"5\",\"2\",\"C\",\"D\",\"+\"]\n",
    "输出: 30\n",
    "解释: \n",
    "第1轮：你可以得到5分。总和是：5。\n",
    "第2轮：你可以得到2分。总和是：7。\n",
    "操作1：第2轮的数据无效。总和是：5。\n",
    "第3轮：你可以得到10分（第2轮的数据已被删除）。总数是：15。\n",
    "第4轮：你可以得到5 + 10 = 15分。总数是：30。\n",
    "示例 2:\n",
    "\n",
    "输入: [\"5\",\"-2\",\"4\",\"C\",\"D\",\"9\",\"+\",\"+\"]\n",
    "输出: 27\n",
    "解释: \n",
    "第1轮：你可以得到5分。总和是：5。\n",
    "第2轮：你可以得到-2分。总数是：3。\n",
    "第3轮：你可以得到4分。总和是：7。\n",
    "操作1：第3轮的数据无效。总数是：3。\n",
    "第4轮：你可以得到-4分（第三轮的数据已被删除）。总和是：-1。\n",
    "第5轮：你可以得到9分。总数是：8。\n",
    "第6轮：你可以得到-4 + 9 = 5分。总数是13。\n",
    "第7轮：你可以得到9 + 5 = 14分。总数是27。\n",
    "注意：\n",
    "\n",
    "输入列表的大小将介于1和1000之间。\n",
    "列表中的每个整数都将介于-30000和30000之间。"
   ]
  },
  {
   "cell_type": "code",
   "execution_count": 3,
   "metadata": {},
   "outputs": [],
   "source": [
    "class Solution:\n",
    "    def calPoints(self, ops):\n",
    "        \"\"\"\n",
    "        :type ops: List[str]\n",
    "        :rtype: int\n",
    "        \"\"\"\n",
    "        valid_idx_list = [] # current valid list of index\n",
    "        each_round_score_list = [] # score list\n",
    "        # [\"5\",\"2\",\"C\",\"D\",\"+\"]\n",
    "        # [5, 2, -2, 5*2, 5+5*2] score list\n",
    "        # change of valid list\n",
    "        # [0]\n",
    "        # [0,1]\n",
    "        # [0]\n",
    "        # [0,3]\n",
    "        # [0,3,4]\n",
    "        for i,ch in enumerate(ops):\n",
    "            if ch == 'C':\n",
    "                if valid_idx_list != []:\n",
    "                    last_idx = valid_idx_list.pop() # pop out last valid idx\n",
    "                    each_round_score_list.append(-1*each_round_score_list[last_idx])\n",
    "                else:\n",
    "                    valid_idx_list.append(i)\n",
    "                    each_round_score_list.append(0)\n",
    "            elif ch == 'D':\n",
    "                if valid_idx_list != []: \n",
    "                    last_idx = valid_idx_list[-1]\n",
    "                    each_round_score_list.append(2*each_round_score_list[last_idx])\n",
    "                    valid_idx_list.append(i)\n",
    "                else:\n",
    "                    valid_idx_list.append(i)\n",
    "                    each_round_score_list.append(0)\n",
    "            elif ch == '+':\n",
    "                if len(valid_idx_list) < 2:\n",
    "                    tmp_sum = 0\n",
    "                    for tmp_idx in valid_idx_list:\n",
    "                        tmp_sum += each_round_score_list[tmp_idx]\n",
    "                    each_round_score_list.append(tmp_sum)\n",
    "                    valid_idx_list.append(i)\n",
    "                else:\n",
    "                    tmp_sum = 0\n",
    "                    for tmp_idx in valid_idx_list[-2:]:\n",
    "                        tmp_sum += each_round_score_list[tmp_idx]\n",
    "                    each_round_score_list.append(tmp_sum)\n",
    "                    valid_idx_list.append(i)\n",
    "            else:\n",
    "                valid_idx_list.append(i)\n",
    "                each_round_score_list.append(int(ch))\n",
    "            print(each_round_score_list)\n",
    "            print(valid_idx_list)\n",
    "        return sum(each_round_score_list)"
   ]
  },
  {
   "cell_type": "code",
   "execution_count": 4,
   "metadata": {},
   "outputs": [
    {
     "name": "stdout",
     "output_type": "stream",
     "text": [
      "[5]\n",
      "[0]\n",
      "[5, 2]\n",
      "[0, 1]\n",
      "[5, 2, -2]\n",
      "[0]\n",
      "[5, 2, -2, 10]\n",
      "[0, 3]\n",
      "[5, 2, -2, 10, 15]\n",
      "[0, 3, 4]\n"
     ]
    },
    {
     "data": {
      "text/plain": [
       "30"
      ]
     },
     "execution_count": 4,
     "metadata": {},
     "output_type": "execute_result"
    }
   ],
   "source": [
    "x = Solution()\n",
    "x.calPoints([\"5\",\"2\",\"C\",\"D\",\"+\"])"
   ]
  }
 ],
 "metadata": {
  "kernelspec": {
   "display_name": "Python 3",
   "language": "python",
   "name": "python3"
  },
  "language_info": {
   "codemirror_mode": {
    "name": "ipython",
    "version": 3
   },
   "file_extension": ".py",
   "mimetype": "text/x-python",
   "name": "python",
   "nbconvert_exporter": "python",
   "pygments_lexer": "ipython3",
   "version": "3.5.2"
  }
 },
 "nbformat": 4,
 "nbformat_minor": 2
}
