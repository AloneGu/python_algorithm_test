{
 "cells": [
  {
   "cell_type": "code",
   "execution_count": null,
   "metadata": {},
   "outputs": [],
   "source": [
    "# 你总共有 n 枚硬币，你需要将它们摆成一个阶梯形状，第 k 行就必须正好有 k 枚硬币。\n",
    "\n",
    "# 给定一个数字 n，找出可形成完整阶梯行的总行数。\n",
    "\n",
    "# n 是一个非负整数，并且在32位有符号整型的范围内。\n",
    "\n",
    "# 示例 1:\n",
    "\n",
    "# n = 5\n",
    "\n",
    "# 硬币可排列成以下几行:\n",
    "# ¤\n",
    "# ¤ ¤\n",
    "# ¤ ¤\n",
    "\n",
    "# 因为第三行不完整，所以返回2.\n",
    "# 示例 2:\n",
    "\n",
    "# n = 8\n",
    "\n",
    "# 硬币可排列成以下几行:\n",
    "# ¤\n",
    "# ¤ ¤\n",
    "# ¤ ¤ ¤\n",
    "# ¤ ¤\n",
    "\n",
    "# 因为第四行不完整，所以返回3."
   ]
  },
  {
   "cell_type": "code",
   "execution_count": 1,
   "metadata": {},
   "outputs": [],
   "source": [
    "import math\n",
    "class Solution:\n",
    "    def arrangeCoins(self, n):\n",
    "        \"\"\"\n",
    "        :type n: int\n",
    "        :rtype: int\n",
    "        \"\"\"\n",
    "        # suppose r = res + 1\n",
    "        # r*(r+1)/2 >= n  ==> (r+1)*(r+1) > 2n\n",
    "        # (r-1)*r <= n \n",
    "        \n",
    "         \n",
    "        # 1*2 = 2\n",
    "        # 2*3 = 6\n",
    "        # 3*4 = 12\n",
    "        # 1<r<sqrt(2n)\n",
    "        \n",
    "        if n <1:\n",
    "            return 0\n",
    "        else:\n",
    "            n_2 = 2*n\n",
    "            r_high = math.ceil(math.sqrt(n_2))+1\n",
    "            for r in range(r_high,1,-1):\n",
    "                curr_full_res = r*(r+1)\n",
    "                last_res = r*(r-1)\n",
    "                if curr_full_res == n_2:\n",
    "                    return r\n",
    "                else:\n",
    "                    if curr_full_res > n_2 and last_res <= n_2:\n",
    "                        return r-1"
   ]
  },
  {
   "cell_type": "code",
   "execution_count": 2,
   "metadata": {},
   "outputs": [
    {
     "data": {
      "text/plain": [
       "4"
      ]
     },
     "execution_count": 2,
     "metadata": {},
     "output_type": "execute_result"
    }
   ],
   "source": [
    "x = Solution()\n",
    "x.arrangeCoins(10)"
   ]
  },
  {
   "cell_type": "code",
   "execution_count": 3,
   "metadata": {},
   "outputs": [
    {
     "data": {
      "text/plain": [
       "466"
      ]
     },
     "execution_count": 3,
     "metadata": {},
     "output_type": "execute_result"
    }
   ],
   "source": [
    "x.arrangeCoins(108975)"
   ]
  }
 ],
 "metadata": {
  "kernelspec": {
   "display_name": "Python 3",
   "language": "python",
   "name": "python3"
  },
  "language_info": {
   "codemirror_mode": {
    "name": "ipython",
    "version": 3
   },
   "file_extension": ".py",
   "mimetype": "text/x-python",
   "name": "python",
   "nbconvert_exporter": "python",
   "pygments_lexer": "ipython3",
   "version": "3.5.2"
  }
 },
 "nbformat": 4,
 "nbformat_minor": 2
}
