{
 "cells": [
  {
   "cell_type": "code",
   "execution_count": null,
   "metadata": {},
   "outputs": [],
   "source": [
    "# 给定一个已按照升序排列 的有序数组，找到两个数使得它们相加之和等于目标数。\n",
    "\n",
    "# 函数应该返回这两个下标值 index1 和 index2，其中 index1 必须小于 index2。请注意，返回的下标值（index1 和 index2）不是从零开始的。\n",
    "\n",
    "# 你可以假设每个输入都只有一个解决方案，而且你不会重复使用相同的元素。\n",
    "\n",
    "# 输入：数组 = {2, 7, 11, 15}, 目标数 = 9\n",
    "# 输出：index1 = 1, index2 = 2"
   ]
  },
  {
   "cell_type": "code",
   "execution_count": null,
   "metadata": {},
   "outputs": [],
   "source": [
    "class Solution:\n",
    "    def twoSum(self, numbers, target):\n",
    "        \"\"\"\n",
    "        :type numbers: List[int]\n",
    "        :type target: int\n",
    "        :rtype: List[int]\n",
    "        \"\"\"\n",
    "        num_len = len(numbers)\n",
    "        last_num = None\n",
    "        for i in range(num_len-1):\n",
    "            if numbers[i] == last_num: # no valid result for this number\n",
    "                continue\n",
    "            for j in range(i+1,num_len):\n",
    "                tmp_sum = numbers[i] + numbers[j]\n",
    "                if tmp_sum > target: # no need for res compute\n",
    "                    break   \n",
    "                if tmp_sum == target:\n",
    "                    return [i+1,j+1]\n",
    "            last_num = numbers[i] # no valid result for this number\n",
    "        return None"
   ]
  }
 ],
 "metadata": {
  "kernelspec": {
   "display_name": "Python 3",
   "language": "python",
   "name": "python3"
  },
  "language_info": {
   "codemirror_mode": {
    "name": "ipython",
    "version": 3
   },
   "file_extension": ".py",
   "mimetype": "text/x-python",
   "name": "python",
   "nbconvert_exporter": "python",
   "pygments_lexer": "ipython3",
   "version": "3.5.2"
  }
 },
 "nbformat": 4,
 "nbformat_minor": 2
}
