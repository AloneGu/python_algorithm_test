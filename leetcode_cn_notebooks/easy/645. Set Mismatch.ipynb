{
 "cells": [
  {
   "cell_type": "code",
   "execution_count": null,
   "metadata": {},
   "outputs": [],
   "source": [
    "# The set S originally contains numbers from 1 to n. \n",
    "# But unfortunately, due to the data error, \n",
    "# one of the numbers in the set got duplicated to another number in the set, \n",
    "# which results in repetition of one number and loss of another number.\n",
    "\n",
    "# Given an array nums representing the data status of this set after the error. \n",
    "# Your task is to firstly find the number occurs twice and then find the number that is missing. \n",
    "# Return them in the form of an array.\n",
    "\n",
    "# Example 1:\n",
    "# Input: nums = [1,2,2,4]\n",
    "# Output: [2,3]\n",
    "# Note:\n",
    "# The given array size will in the range [2, 10000].\n",
    "# The given array's numbers won't have any order.\n"
   ]
  },
  {
   "cell_type": "code",
   "execution_count": null,
   "metadata": {},
   "outputs": [],
   "source": [
    "class Solution:\n",
    "    def findErrorNums(self, nums):\n",
    "        \"\"\"\n",
    "        :type nums: List[int]\n",
    "        :rtype: List[int]\n",
    "        \"\"\"\n",
    "        \n",
    "        # 1,2,2,4\n",
    "        # idx_list = [0,0,0,0]\n",
    "        # idx_list = [1,2,0,1]\n",
    "        # res = [2,3]\n",
    "        \n",
    "        idx_list = [0 for x in nums] \n",
    "        for n in nums:\n",
    "            idx_list[n-1] += 1\n",
    "        res = [0,0]\n",
    "        for j,show_cnt in enumerate(idx_list):\n",
    "            if show_cnt == 2:\n",
    "                res[0] = j + 1\n",
    "            elif show_cnt == 0:\n",
    "                res[1] = j + 1\n",
    "            else:\n",
    "                pass\n",
    "        return res"
   ]
  }
 ],
 "metadata": {
  "kernelspec": {
   "display_name": "Python 3",
   "language": "python",
   "name": "python3"
  },
  "language_info": {
   "codemirror_mode": {
    "name": "ipython",
    "version": 3
   },
   "file_extension": ".py",
   "mimetype": "text/x-python",
   "name": "python",
   "nbconvert_exporter": "python",
   "pygments_lexer": "ipython3",
   "version": "3.5.2"
  }
 },
 "nbformat": 4,
 "nbformat_minor": 2
}
