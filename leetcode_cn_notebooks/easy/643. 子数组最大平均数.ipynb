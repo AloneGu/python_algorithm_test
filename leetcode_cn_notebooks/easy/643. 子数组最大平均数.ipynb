{
 "cells": [
  {
   "cell_type": "code",
   "execution_count": null,
   "metadata": {},
   "outputs": [],
   "source": [
    "# 给定 n 个整数，找出平均数最大且长度为 k 的子数组，并输出该最大平均数。\n",
    "\n",
    "# 例:\n",
    "\n",
    "# 输入: [1,12,-5,-6,50,3], k = 4\n",
    "# 输出: 12.75\n",
    "# 解释: 最大平均数 (12-5-6+50)/4 = 51/4 = 12.75\n",
    " \n",
    "\n",
    "# 注意:\n",
    "\n",
    "# 1 <= k <= n <= 30,000。\n",
    "# 所给数据范围 [-10,000，10,000]"
   ]
  },
  {
   "cell_type": "code",
   "execution_count": null,
   "metadata": {},
   "outputs": [],
   "source": [
    "class Solution:\n",
    "    def findMaxAverage(self, nums, k):\n",
    "        \"\"\"\n",
    "        :type nums: List[int]\n",
    "        :type k: int\n",
    "        :rtype: float\n",
    "        \"\"\"\n",
    "        num_len = len(nums)\n",
    "        init_sum = sum(nums[:k])\n",
    "        max_sum = init_sum\n",
    "        for i in range(k,num_len,1):\n",
    "            init_sum = init_sum + nums[i] - nums[i-k]\n",
    "            if init_sum > max_sum:\n",
    "                max_sum = init_sum\n",
    "        return max_sum/k"
   ]
  }
 ],
 "metadata": {
  "kernelspec": {
   "display_name": "Python 3",
   "language": "python",
   "name": "python3"
  },
  "language_info": {
   "codemirror_mode": {
    "name": "ipython",
    "version": 3
   },
   "file_extension": ".py",
   "mimetype": "text/x-python",
   "name": "python",
   "nbconvert_exporter": "python",
   "pygments_lexer": "ipython3",
   "version": "3.5.2"
  }
 },
 "nbformat": 4,
 "nbformat_minor": 2
}
