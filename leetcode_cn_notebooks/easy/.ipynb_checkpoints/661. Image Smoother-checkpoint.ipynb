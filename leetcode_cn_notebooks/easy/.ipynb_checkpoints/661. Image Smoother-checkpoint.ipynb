{
 "cells": [
  {
   "cell_type": "code",
   "execution_count": null,
   "metadata": {},
   "outputs": [],
   "source": []
  },
  {
   "cell_type": "code",
   "execution_count": 29,
   "metadata": {},
   "outputs": [
    {
     "name": "stdout",
     "output_type": "stream",
     "text": [
      "1 4\n",
      "1 5\n",
      "1 6\n",
      "2 4\n",
      "2 5\n",
      "2 6\n",
      "3 4\n",
      "3 5\n",
      "3 6\n"
     ]
    }
   ],
   "source": [
    "from itertools import product\n",
    "for x,y in product([1,2,3],[4,5,6]):\n",
    "    print(x,y)"
   ]
  },
  {
   "cell_type": "code",
   "execution_count": 30,
   "metadata": {},
   "outputs": [],
   "source": [
    "from itertools import product\n",
    "from copy import deepcopy\n",
    "from itertools import product\n",
    "from copy import deepcopy\n",
    "\n",
    "class Solution:\n",
    "    def imageSmoother(self, M):\n",
    "        \"\"\"\n",
    "        :type M: List[List[int]]\n",
    "        :rtype: List[List[int]]\n",
    "        \"\"\"\n",
    "        res_m = deepcopy(M)  # not M.copy()\n",
    "        row_count = len(M)\n",
    "        col_count = len(M[0])\n",
    "        \n",
    "        for i in range(row_count):\n",
    "            for j in range(col_count):\n",
    "                tmp_res = 0\n",
    "                tmp_cnt = 0\n",
    "                for x,y in product([i-1,i,i+1],[j-1,j,j+1]):\n",
    "                    if x>=0 and x<row_count and y>=0 and y<col_count:\n",
    "                        tmp_res += M[x][y]\n",
    "                        tmp_cnt += 1\n",
    "                res_m[i][j] = int(tmp_res/tmp_cnt)\n",
    "        return res_m"
   ]
  },
  {
   "cell_type": "code",
   "execution_count": 31,
   "metadata": {},
   "outputs": [
    {
     "data": {
      "text/plain": [
       "[[4, 4, 5], [5, 6, 6], [8, 9, 9], [11, 12, 12], [13, 13, 14]]"
      ]
     },
     "execution_count": 31,
     "metadata": {},
     "output_type": "execute_result"
    }
   ],
   "source": [
    "x = Solution()\n",
    "M = [[2,3,4],\n",
    "     [5,6,7],\n",
    "     [8,9,10],\n",
    "     [11,12,13],\n",
    "     [14,15,16]]\n",
    "x.imageSmoother(M)"
   ]
  },
  {
   "cell_type": "code",
   "execution_count": 32,
   "metadata": {},
   "outputs": [
    {
     "name": "stdout",
     "output_type": "stream",
     "text": [
      "[1, 2, 3] [5, 2, 3]\n",
      "[[5, 2, 3], [4, 5, 6]] [[5, 2, 3], [4, 5, 6]]\n",
      "[[1, 2, 3], [4, 5, 6]] [[5, 2, 3], [4, 5, 6]]\n"
     ]
    }
   ],
   "source": [
    "a= [1,2,3]\n",
    "b=a.copy()\n",
    "b[0]=5\n",
    "print(a,b)\n",
    "\n",
    "a = [[1,2,3],[4,5,6]]\n",
    "b = a.copy()\n",
    "b[0][0] = 5\n",
    "print(a,b)\n",
    "\n",
    "a = [[1,2,3],[4,5,6]]\n",
    "b = deepcopy(a)\n",
    "b[0][0] = 5\n",
    "\n",
    "print(a,b)"
   ]
  }
 ],
 "metadata": {
  "kernelspec": {
   "display_name": "Python 3",
   "language": "python",
   "name": "python3"
  },
  "language_info": {
   "codemirror_mode": {
    "name": "ipython",
    "version": 3
   },
   "file_extension": ".py",
   "mimetype": "text/x-python",
   "name": "python",
   "nbconvert_exporter": "python",
   "pygments_lexer": "ipython3",
   "version": "3.5.2"
  }
 },
 "nbformat": 4,
 "nbformat_minor": 2
}
