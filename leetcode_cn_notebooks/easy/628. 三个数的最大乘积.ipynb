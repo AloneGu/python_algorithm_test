{
 "cells": [
  {
   "cell_type": "code",
   "execution_count": null,
   "metadata": {},
   "outputs": [],
   "source": [
    "# 给定一个整型数组，在数组中找出由三个数组成的最大乘积，并输出这个乘积。\n",
    "\n",
    "# 示例 1:\n",
    "\n",
    "# 输入: [1,2,3]\n",
    "# 输出: 6\n",
    "# 示例 2:\n",
    "\n",
    "# 输入: [1,2,3,4]\n",
    "# 输出: 24\n",
    "# 注意:\n",
    "\n",
    "# 给定的整型数组长度范围是[3,104]，数组中所有的元素范围是[-1000, 1000]。\n",
    "# 输入的数组中任意三个数的乘积不会超出32位有符号整数的范围。"
   ]
  },
  {
   "cell_type": "code",
   "execution_count": 1,
   "metadata": {},
   "outputs": [],
   "source": [
    "class Solution:\n",
    "    def maximumProduct(self, nums):\n",
    "        \"\"\"\n",
    "        :type nums: List[int]\n",
    "        :rtype: int\n",
    "        \"\"\"\n",
    "        \n",
    "        # res is positive\n",
    "        # 3 pos, 1 pos 2 neg\n",
    "        \n",
    "        # res is zero\n",
    "        # 0\n",
    "        \n",
    "        # res is neg\n",
    "        # 2 small pos 1 large neg\n",
    "        # 3 large neg \n",
    "        \n",
    "        pos = []\n",
    "        neg = []\n",
    "        zero_flag = False\n",
    "        for n in nums:\n",
    "            if n > 0:\n",
    "                pos.append(n)\n",
    "            elif n < 0:\n",
    "                neg.append(n)\n",
    "            else:\n",
    "                zero_flag = True\n",
    "        pos = sorted(pos)\n",
    "        neg = sorted(neg)\n",
    "        pos_len = len(pos)\n",
    "        neg_len = len(neg)\n",
    "        \n",
    "        max_res = 0\n",
    "        if pos_len >= 3:\n",
    "            max_res = max(pos[-1]*pos[-2]*pos[-3],max_res)\n",
    "        \n",
    "        if pos_len >= 1 and neg_len>=2:\n",
    "            max_res = max(pos[-1]*neg[0]*neg[1],max_res)\n",
    "        \n",
    "        if max_res == 0: # no pos result\n",
    "            if zero_flag is True: # exist zero\n",
    "                return 0\n",
    "        else: # exist pos result\n",
    "            return max_res\n",
    "        \n",
    "        # res is neg\n",
    "        max_res = 0\n",
    "        if neg_len >= 3: # update max_res for this case\n",
    "            max_res = neg[-1]*neg[-2]*neg[-3]\n",
    "        \n",
    "        if neg_len >= 1 and pos_len >= 2:\n",
    "            other_max_res = neg[-1]*pos[0]*pos[1]\n",
    "            if max_res < 0 and other_max_res > max_res: # compare with last case\n",
    "                return other_max_res\n",
    "        else:\n",
    "            return max_res\n",
    "            "
   ]
  },
  {
   "cell_type": "code",
   "execution_count": 2,
   "metadata": {},
   "outputs": [
    {
     "data": {
      "text/plain": [
       "24"
      ]
     },
     "execution_count": 2,
     "metadata": {},
     "output_type": "execute_result"
    }
   ],
   "source": [
    "x=Solution()\n",
    "x.maximumProduct([1,2,3,4])"
   ]
  },
  {
   "cell_type": "code",
   "execution_count": 3,
   "metadata": {},
   "outputs": [
    {
     "data": {
      "text/plain": [
       "88"
      ]
     },
     "execution_count": 3,
     "metadata": {},
     "output_type": "execute_result"
    }
   ],
   "source": [
    "x.maximumProduct([-11,-2,3,4])"
   ]
  },
  {
   "cell_type": "code",
   "execution_count": 4,
   "metadata": {},
   "outputs": [
    {
     "data": {
      "text/plain": [
       "0"
      ]
     },
     "execution_count": 4,
     "metadata": {},
     "output_type": "execute_result"
    }
   ],
   "source": [
    "x.maximumProduct([1,3,-4,0])"
   ]
  }
 ],
 "metadata": {
  "kernelspec": {
   "display_name": "Python 3",
   "language": "python",
   "name": "python3"
  },
  "language_info": {
   "codemirror_mode": {
    "name": "ipython",
    "version": 3
   },
   "file_extension": ".py",
   "mimetype": "text/x-python",
   "name": "python",
   "nbconvert_exporter": "python",
   "pygments_lexer": "ipython3",
   "version": "3.5.2"
  }
 },
 "nbformat": 4,
 "nbformat_minor": 2
}
