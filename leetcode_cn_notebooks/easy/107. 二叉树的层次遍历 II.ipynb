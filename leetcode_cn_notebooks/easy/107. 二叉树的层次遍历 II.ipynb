{
 "cells": [
  {
   "cell_type": "code",
   "execution_count": null,
   "metadata": {},
   "outputs": [],
   "source": [
    "# 给定一个二叉树，返回其节点值自底向上的层次遍历。 （即按从叶节点所在层到根节点所在的层，逐层从左向右遍历）\n",
    "\n",
    "# 例如：\n",
    "# 给定二叉树 [3,9,20,null,null,15,7],\n",
    "\n",
    "#     3\n",
    "#    / \\\n",
    "#   9  20\n",
    "#     /  \\\n",
    "#    15   7\n",
    "# 返回其自自底向上的层次遍历为：\n",
    "\n",
    "# [\n",
    "#   [15,7],\n",
    "#   [9,20],\n",
    "#   [3]\n",
    "# ]\n"
   ]
  },
  {
   "cell_type": "code",
   "execution_count": null,
   "metadata": {},
   "outputs": [],
   "source": [
    "# Definition for a binary tree node.\n",
    "# class TreeNode:\n",
    "#     def __init__(self, x):\n",
    "#         self.val = x\n",
    "#         self.left = None\n",
    "#         self.right = None\n",
    "\n",
    "class Solution:\n",
    "    def levelOrderBottom(self, root):\n",
    "        \"\"\"\n",
    "        :type root: TreeNode\n",
    "        :rtype: List[List[int]]\n",
    "        \"\"\"\n",
    "        node_stack = []\n",
    "        if root is None:\n",
    "            return []\n",
    "        res = []\n",
    "        node_stack.append(root)\n",
    "        while True:\n",
    "            this_level_nodes = node_stack.copy()\n",
    "            if len(this_level_nodes) == 0:\n",
    "                break\n",
    "            else:\n",
    "                node_stack = [] # reset node_stack\n",
    "                tmp_res = []\n",
    "                for curr_node in this_level_nodes:\n",
    "                    tmp_res.append(curr_node.val)\n",
    "                    if curr_node.left is not None:\n",
    "                        node_stack.append(curr_node.left) # add left node first\n",
    "                    if curr_node.right is not None:\n",
    "                        node_stack.append(curr_node.right)  \n",
    "                res.append(tmp_res)  # append this level nodes\n",
    "        res.reverse() # bottom up\n",
    "        return res\n",
    "            "
   ]
  }
 ],
 "metadata": {
  "kernelspec": {
   "display_name": "Python 3",
   "language": "python",
   "name": "python3"
  },
  "language_info": {
   "codemirror_mode": {
    "name": "ipython",
    "version": 3
   },
   "file_extension": ".py",
   "mimetype": "text/x-python",
   "name": "python",
   "nbconvert_exporter": "python",
   "pygments_lexer": "ipython3",
   "version": "3.5.2"
  }
 },
 "nbformat": 4,
 "nbformat_minor": 2
}
