{
 "cells": [
  {
   "cell_type": "code",
   "execution_count": null,
   "metadata": {},
   "outputs": [],
   "source": [
    "# 给定一个非空二叉树, 返回一个由每层节点平均值组成的数组.\n",
    "\n",
    "# 示例 1:\n",
    "\n",
    "# 输入:\n",
    "#     3\n",
    "#    / \\\n",
    "#   9  20\n",
    "#     /  \\\n",
    "#    15   7\n",
    "# 输出: [3, 14.5, 11]\n",
    "# 解释:\n",
    "# 第0层的平均值是 3,  第1层是 14.5, 第2层是 11. 因此返回 [3, 14.5, 11].\n",
    "# 注意：\n",
    "\n",
    "# 节点值的范围在32位有符号整数范围内。"
   ]
  },
  {
   "cell_type": "code",
   "execution_count": null,
   "metadata": {},
   "outputs": [],
   "source": [
    "# Definition for a binary tree node.\n",
    "# class TreeNode:\n",
    "#     def __init__(self, x):\n",
    "#         self.val = x\n",
    "#         self.left = None\n",
    "#         self.right = None\n",
    "\n",
    "class Solution:\n",
    "    def averageOfLevels(self, root):\n",
    "        \"\"\"\n",
    "        :type root: TreeNode\n",
    "        :rtype: List[float]\n",
    "        \"\"\"\n",
    "        node_stack = []\n",
    "        if root is None:\n",
    "            return []\n",
    "        res = []\n",
    "        node_stack.append(root)\n",
    "        while True:\n",
    "            this_level_nodes = node_stack.copy()\n",
    "            if len(this_level_nodes) == 0:\n",
    "                break\n",
    "            else:\n",
    "                node_stack = [] # reset node_stack\n",
    "                tmp_res = [] # save this level values\n",
    "                for curr_node in this_level_nodes:\n",
    "                    tmp_res.append(curr_node.val)\n",
    "                    if curr_node.left is not None:\n",
    "                        node_stack.append(curr_node.left) # add left node first\n",
    "                    if curr_node.right is not None:\n",
    "                        node_stack.append(curr_node.right)  \n",
    "                avg = sum(tmp_res)/len(tmp_res)\n",
    "                res.append(avg)  # append this level avg\n",
    "        return res"
   ]
  }
 ],
 "metadata": {
  "kernelspec": {
   "display_name": "Python 3",
   "language": "python",
   "name": "python3"
  },
  "language_info": {
   "codemirror_mode": {
    "name": "ipython",
    "version": 3
   },
   "file_extension": ".py",
   "mimetype": "text/x-python",
   "name": "python",
   "nbconvert_exporter": "python",
   "pygments_lexer": "ipython3",
   "version": "3.5.2"
  }
 },
 "nbformat": 4,
 "nbformat_minor": 2
}
